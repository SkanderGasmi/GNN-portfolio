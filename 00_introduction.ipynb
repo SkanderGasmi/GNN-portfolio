{
 "cells": [
  {
   "cell_type": "markdown",
   "metadata": {},
   "source": [
    "<a href=\"https://www.nvidia.com/dli\"> <img src=\"images/DLI_Header.png\" alt=\"Header\" style=\"width: 400px;\"/> </a>"
   ]
  },
  {
   "cell_type": "markdown",
   "metadata": {},
   "source": [
    "# Introduction to Graph Neural Networks #"
   ]
  },
  {
   "cell_type": "markdown",
   "metadata": {},
   "source": [
    "## 00 - Introduction ##\n",
    "Welcome to the NVIDIA DLI _Introduction to Graph Neural Networks_ lab. Graph neural networks (GNNs) are models designed to perform inference on unstructured data described by graphs. For different segments and industries, GNNs find suitable applications such as molecular analysis, drug discovery and repurposing, predicting stock market developments, thermodynamics, and even modeling human brain connectomes. In this lab, you will learn concepts such as graph data manipulation, message passing on graphs, graph convolution with spatial filtering, and multilayer GNNs. We'll also walk through the process of creating GNN-based classifiers using the [Deep Graph Library](https://www.dgl.ai/) and accelerating it on NVIDIA GPUs."
   ]
  },
  {
   "cell_type": "markdown",
   "metadata": {},
   "source": [
    "**Learning Objectives**\n",
    "<br>\n",
    "In this course, you will learn important concepts about graph neural networks, including: \n",
    "* Anatomy of a Graph\n",
    "* Basic Manipulation of Graphs\n",
    "* Message Passing and Graph Convolution\n",
    "* Implementation of Various Graph Neural Networks\n",
    "* Node Classification Using Graph Neural Networks\n",
    "\n",
    "**Table of Contents**\n",
    "<br>\n",
    "This lab is broken down into two parts. In the first part, our focus is primarily on fundamental concepts and how to manipulate graphs. In the second part of the lab, we will learn to efficiently train various graph neural networks. This hands-on lab will provide opportunities to get familiar with each step in the development workflow and to enable customizations that are most appropriate for your own use cases. \n",
    "1. Introduction to Graphs and Graph Neural Networks\n",
    "2. Training Graph Neural Networks"
   ]
  },
  {
   "cell_type": "markdown",
   "metadata": {},
   "source": [
    "### JupyterLab ###\n",
    "For this hands-on lab, we use [JupyterLab](https://jupyterlab.readthedocs.io/en/stable/) to manage our environment.  The [JupyterLab Interface](https://jupyterlab.readthedocs.io/en/stable/user/interface.html) is a dashboard that provides access to interactive iPython notebooks, as well as the folder structure of our environment and a terminal window into the Ubuntu operating system. The first view you will see includes a **menu bar** at the top, a **file browser** in the **left sidebar**, and a **main work area** that is initially open to this \"introduction\" notebook. \n",
    "<p><img src=\"images/jl_launcher.png\"></p>\n",
    "\n",
    "* The file browser can be navigated just like any other file explorer. A double click on any of the items will open a new tab with its content. \n",
    "* The main work area includes tabbed views of open files that can be closed, moved, and edited as needed. \n",
    "* The notebooks, including this one, consist of a series of content and code **cells**. To execute code in a code cell, press `Shift+Enter` or the `Run` button in the menu bar above, while a cell is highlighted. Sometimes, a content cell will get switched to editing mode. Executing the cell with `Shift+Enter` or the `Run` button will switch it back to a readable form.\n",
    "* To interrupt cell execution, click the `Stop` button in the menu bar or navigate to the `Kernel` menu, and select `Interrupt Kernel`. \n",
    "* We can use terminal commands in the notebook cells by prepending an exclamation point/bang(`!`) to the beginning of the command. "
   ]
  },
  {
   "cell_type": "markdown",
   "metadata": {},
   "source": [
    "<a name='e1'></a>\n",
    "#### Exercise #1 - Practice ####\n",
    "Try executing the simple print statement in the cell below."
   ]
  },
  {
   "cell_type": "code",
   "execution_count": 1,
   "metadata": {},
   "outputs": [
    {
     "name": "stdout",
     "output_type": "stream",
     "text": [
      "This is just a simple print statement\n"
     ]
    }
   ],
   "source": [
    "# DO NOT CHANGE THIS CELL\n",
    "# activate this cell by selecting it with the mouse or arrow keys then use the keyboard shortcut [Shift+Enter] to execute\n",
    "print('This is just a simple print statement')"
   ]
  },
  {
   "cell_type": "markdown",
   "metadata": {},
   "source": [
    "Now try executing the terminal command in the cell below."
   ]
  },
  {
   "cell_type": "code",
   "execution_count": 2,
   "metadata": {},
   "outputs": [
    {
     "name": "stdout",
     "output_type": "stream",
     "text": [
      "This is another simple print statement\n"
     ]
    }
   ],
   "source": [
    "# DO NOT CHANGE THIS CELL\n",
    "# activate this cell by selecting it with the mouse or arrow keys then use the keyboard shortcut [Shift+Enter] to execute\n",
    "!echo 'This is another simple print statement'"
   ]
  },
  {
   "cell_type": "markdown",
   "metadata": {},
   "source": [
    "**Well Done!** When you are ready, let's move to the [next notebook](./01_introduction_to_graphs_and_graph_neural_networks.ipynb). "
   ]
  },
  {
   "cell_type": "markdown",
   "metadata": {},
   "source": [
    "<a href=\"https://www.nvidia.com/dli\"> <img src=\"images/DLI_Header.png\" alt=\"Header\" style=\"width: 400px;\"/> </a>"
   ]
  },
  {
   "cell_type": "code",
   "execution_count": null,
   "metadata": {},
   "outputs": [],
   "source": []
  },
  {
   "cell_type": "code",
   "execution_count": null,
   "metadata": {},
   "outputs": [],
   "source": []
  }
 ],
 "metadata": {
  "kernelspec": {
   "display_name": "Python 3",
   "language": "python",
   "name": "python3"
  },
  "language_info": {
   "codemirror_mode": {
    "name": "ipython",
    "version": 3
   },
   "file_extension": ".py",
   "mimetype": "text/x-python",
   "name": "python",
   "nbconvert_exporter": "python",
   "pygments_lexer": "ipython3",
   "version": "3.8.8"
  }
 },
 "nbformat": 4,
 "nbformat_minor": 4
}
